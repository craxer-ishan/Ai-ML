{
  "nbformat": 4,
  "nbformat_minor": 0,
  "metadata": {
    "colab": {
      "provenance": [],
      "authorship_tag": "ABX9TyML2OhaBL/yqvWHkRzvTvx2",
      "include_colab_link": true
    },
    "kernelspec": {
      "name": "python3",
      "display_name": "Python 3"
    },
    "language_info": {
      "name": "python"
    }
  },
  "cells": [
    {
      "cell_type": "markdown",
      "metadata": {
        "id": "view-in-github",
        "colab_type": "text"
      },
      "source": [
        "<a href=\"https://colab.research.google.com/github/craxer-ishan/Ai-ML/blob/main/Worksheet0.ipynb\" target=\"_parent\"><img src=\"https://colab.research.google.com/assets/colab-badge.svg\" alt=\"Open In Colab\"/></a>"
      ]
    },
    {
      "cell_type": "markdown",
      "source": [
        "#Task1"
      ],
      "metadata": {
        "id": "56bJKM1IHFwg"
      }
    },
    {
      "cell_type": "code",
      "source": [
        "def convert_length(value, unit_from, unit_to):\n",
        "    \"\"\"\n",
        "    Convert length between meters and feet.\n",
        "\n",
        "    Parameters:\n",
        "        value (float): The numerical value to be converted.\n",
        "        unit_from (str): The unit of the input value ('m' or 'ft').\n",
        "        unit_to (str): The desired unit for the output value ('m' or 'ft').\n",
        "\n",
        "    Returns:\n",
        "        float: The converted value.\n",
        "    \"\"\"\n",
        "    if unit_from == \"m\" and unit_to == \"ft\":\n",
        "        return value * 3.28084\n",
        "    elif unit_from == \"ft\" and unit_to == \"m\":\n",
        "        return value / 3.28084\n",
        "    else:\n",
        "        raise ValueError(\"Invalid length conversion units.\")\n",
        "\n",
        "def convert_weight(value, unit_from, unit_to):\n",
        "    \"\"\"\n",
        "    Convert weight between kilograms and pounds.\n",
        "\n",
        "    Parameters:\n",
        "        value (float): The numerical value to be converted.\n",
        "        unit_from (str): The unit of the input value ('kg' or 'lbs').\n",
        "        unit_to (str): The desired unit for the output value ('kg' or 'lbs').\n",
        "\n",
        "    Returns:\n",
        "        float: The converted value.\n",
        "    \"\"\"\n",
        "    if unit_from == \"kg\" and unit_to == \"lbs\":\n",
        "        return value * 2.20462\n",
        "    elif unit_from == \"lbs\" and unit_to == \"kg\":\n",
        "        return value / 2.20462\n",
        "    else:\n",
        "        raise ValueError(\"Invalid weight conversion units.\")\n",
        "\n",
        "def convert_volume(value, unit_from, unit_to):\n",
        "    \"\"\"\n",
        "    Convert volume between liters and gallons.\n",
        "\n",
        "    Parameters:\n",
        "        value (float): The numerical value to be converted.\n",
        "        unit_from (str): The unit of the input value ('L' or 'gal').\n",
        "        unit_to (str): The desired unit for the output value ('L' or 'gal').\n",
        "\n",
        "    Returns:\n",
        "        float: The converted value.\n",
        "    \"\"\"\n",
        "    if unit_from == \"L\" and unit_to == \"gal\":\n",
        "        return value * 0.264172\n",
        "    elif unit_from == \"gal\" and unit_to == \"L\":\n",
        "        return value / 0.264172\n",
        "    else:\n",
        "        raise ValueError(\"Invalid volume conversion units.\")\n",
        "\n",
        "def main():\n",
        "    print(\"Unit Conversion Program\")\n",
        "    print(\"Choose a type of conversion:\")\n",
        "    print(\"1. Length (meters to feet / feet to meters)\")\n",
        "    print(\"2. Weight (kilograms to pounds / pounds to kilograms)\")\n",
        "    print(\"3. Volume (liters to gallons / gallons to liters)\")\n",
        "\n",
        "    try:\n",
        "        choice = int(input(\"Enter the number of your choice: \"))\n",
        "\n",
        "        if choice == 1:\n",
        "            print(\"Length Conversion:\")\n",
        "            unit_from = input(\"Convert from (m/ft): \").strip().lower()\n",
        "            unit_to = \"ft\" if unit_from == \"m\" else \"m\"\n",
        "            value_input = input(f\"Enter value in {unit_from}: \").replace(',', '.')\n",
        "            value = float(value_input)\n",
        "            result = convert_length(value, unit_from, unit_to)\n",
        "            print(f\"{value} {unit_from} = {result:.2f} {unit_to}\")\n",
        "\n",
        "        elif choice == 2:\n",
        "            print(\"Weight Conversion:\")\n",
        "            unit_from = input(\"Convert from (kg/lbs): \").strip().lower()\n",
        "            unit_to = \"lbs\" if unit_from == \"kg\" else \"kg\"\n",
        "            value_input = input(f\"Enter value in {unit_from}: \").replace(',', '.')\n",
        "            value = float(value_input)\n",
        "            result = convert_weight(value, unit_from, unit_to)\n",
        "            print(f\"{value} {unit_from} = {result:.2f} {unit_to}\")\n",
        "\n",
        "        elif choice == 3:\n",
        "            print(\"Volume Conversion:\")\n",
        "            unit_from = input(\"Convert from (L/gal): \").strip().lower()\n",
        "            unit_from = unit_from.upper()\n",
        "            unit_to = \"gal\" if unit_from == \"L\" else \"L\"\n",
        "            value_input = input(f\"Enter value in {unit_from}: \").replace(',', '.')\n",
        "            value = float(value_input)\n",
        "            result = convert_volume(value, unit_from, unit_to)\n",
        "            print(f\"{value} {unit_from} = {result:.2f} {unit_to}\")\n",
        "\n",
        "        else:\n",
        "            print(\"Invalid choice. Please select a valid option.\")\n",
        "\n",
        "    except ValueError:\n",
        "        print(\"Invalid input. Please enter a numeric value using digits and a decimal point (e.g., 3.5).\")\n",
        "\n",
        "if __name__ == \"__main__\":\n",
        "    main()\n"
      ],
      "metadata": {
        "colab": {
          "base_uri": "https://localhost:8080/"
        },
        "id": "BQWvuWuCHKFQ",
        "outputId": "38eb59ca-6631-42f4-f707-af6d3dceeb5b"
      },
      "execution_count": null,
      "outputs": [
        {
          "output_type": "stream",
          "name": "stdout",
          "text": [
            "Unit Conversion Program\n",
            "Choose a type of conversion:\n",
            "1. Length (meters to feet / feet to meters)\n",
            "2. Weight (kilograms to pounds / pounds to kilograms)\n",
            "3. Volume (liters to gallons / gallons to liters)\n",
            "Enter the number of your choice: 1\n",
            "Length Conversion:\n",
            "Convert from (m/ft): m\n",
            "Enter value in m: 3\n",
            "3.0 m = 9.84 ft\n"
          ]
        }
      ]
    },
    {
      "cell_type": "markdown",
      "source": [
        "#Task2\n"
      ],
      "metadata": {
        "id": "QTwYgzEmHsqW"
      }
    },
    {
      "cell_type": "code",
      "source": [
        "def calculate_sum(numbers):\n",
        "    \"\"\"\n",
        "    Calculate the sum of a list of numbers.\n",
        "\n",
        "    Parameters:\n",
        "        numbers (list of float): The list of numbers.\n",
        "\n",
        "    Returns:\n",
        "        float: The sum of the numbers.\n",
        "    \"\"\"\n",
        "    return sum(numbers)\n",
        "\n",
        "def calculate_average(numbers):\n",
        "    \"\"\"\n",
        "    Calculate the average of a list of numbers.\n",
        "\n",
        "    Parameters:\n",
        "        numbers (list of float): The list of numbers.\n",
        "\n",
        "    Returns:\n",
        "        float: The average of the numbers.\n",
        "    \"\"\"\n",
        "    if len(numbers) == 0:\n",
        "        raise ValueError(\"Cannot calculate average of an empty list.\")\n",
        "    return sum(numbers) / len(numbers)\n",
        "\n",
        "def find_maximum(numbers):\n",
        "    \"\"\"\n",
        "    Find the maximum number in a list.\n",
        "\n",
        "    Parameters:\n",
        "        numbers (list of float): The list of numbers.\n",
        "\n",
        "    Returns:\n",
        "        float: The maximum number.\n",
        "    \"\"\"\n",
        "    if len(numbers) == 0:\n",
        "        raise ValueError(\"Cannot find the maximum of an empty list.\")\n",
        "    return max(numbers)\n",
        "\n",
        "def find_minimum(numbers):\n",
        "    \"\"\"\n",
        "    Find the minimum number in a list.\n",
        "\n",
        "    Parameters:\n",
        "        numbers (list of float): The list of numbers.\n",
        "\n",
        "    Returns:\n",
        "        float: The minimum number.\n",
        "    \"\"\"\n",
        "    if len(numbers) == 0:\n",
        "        raise ValueError(\"Cannot find the minimum of an empty list.\")\n",
        "    return min(numbers)\n",
        "\n",
        "def main():\n",
        "    print(\"Mathematical Operations on a List of Numbers\")\n",
        "    print(\"Choose an operation:\")\n",
        "    print(\"1. Sum of the numbers\")\n",
        "    print(\"2. Average of the numbers\")\n",
        "    print(\"3. Maximum number\")\n",
        "    print(\"4. Minimum number\")\n",
        "\n",
        "    try:\n",
        "        choice = int(input(\"Enter the number of your choice: \"))\n",
        "\n",
        "        if choice not in [1, 2, 3, 4]:\n",
        "            print(\"Invalid choice. Please select a valid option.\")\n",
        "            return\n",
        "\n",
        "        # Get the list of numbers from the user\n",
        "        user_input = input(\"Enter a list of numbers (separated by spaces): \")\n",
        "        number_strings = user_input.split()\n",
        "        numbers = [float(num.replace(',', '.')) for num in number_strings]  # Handle commas and convert to float\n",
        "\n",
        "        if len(numbers) == 0:\n",
        "            print(\"The list is empty. Please enter at least one number.\")\n",
        "            return\n",
        "\n",
        "        # Perform the selected operation\n",
        "        if choice == 1:\n",
        "            result = calculate_sum(numbers)\n",
        "            print(f\"Sum of the numbers: {result}\")\n",
        "\n",
        "        elif choice == 2:\n",
        "            result = calculate_average(numbers)\n",
        "            print(f\"Average of the numbers: {result}\")\n",
        "\n",
        "        elif choice == 3:\n",
        "            result = find_maximum(numbers)\n",
        "            print(f\"Maximum number: {result}\")\n",
        "\n",
        "        elif choice == 4:\n",
        "            result = find_minimum(numbers)\n",
        "            print(f\"Minimum number: {result}\")\n",
        "\n",
        "    except ValueError:\n",
        "        print(\"Invalid input. Please enter numeric values separated by spaces.\")\n",
        "\n",
        "if __name__ == \"__main__\":\n",
        "    main()\n"
      ],
      "metadata": {
        "colab": {
          "base_uri": "https://localhost:8080/"
        },
        "id": "J8MNHX-0Hvtn",
        "outputId": "88f514a1-c664-471d-ca05-ba2205154909"
      },
      "execution_count": null,
      "outputs": [
        {
          "output_type": "stream",
          "name": "stdout",
          "text": [
            "Mathematical Operations on a List of Numbers\n",
            "Choose an operation:\n",
            "1. Sum of the numbers\n",
            "2. Average of the numbers\n",
            "3. Maximum number\n",
            "4. Minimum number\n",
            "Enter the number of your choice: 1\n",
            "Enter a list of numbers (separated by spaces): 5, 6, 7\n",
            "Sum of the numbers: 18.0\n"
          ]
        }
      ]
    },
    {
      "cell_type": "markdown",
      "source": [
        "#4.2 Exercise on List Manipulation:\n",
        "\n",
        "1. Extract Every Other Element:\n",
        "Write a Python function that extracts every other element from a list, starting from the first element."
      ],
      "metadata": {
        "id": "YqSa67heH-CX"
      }
    },
    {
      "cell_type": "code",
      "source": [
        "def extract_every_other(lst):\n",
        "    result = []\n",
        "    for i in range(0, len(lst), 2):\n",
        "        result.append(lst[i])\n",
        "    return result\n",
        "\n",
        "lst = [1, 3, 4, 2, 5, 6]\n",
        "result = extract_every_other(lst)\n",
        "print(result)\n"
      ],
      "metadata": {
        "colab": {
          "base_uri": "https://localhost:8080/"
        },
        "id": "7KRkwfO8IEm7",
        "outputId": "f3e20e54-8418-4106-fd5b-c31c8fa74d38"
      },
      "execution_count": null,
      "outputs": [
        {
          "output_type": "stream",
          "name": "stdout",
          "text": [
            "[1, 4, 5]\n"
          ]
        }
      ]
    },
    {
      "cell_type": "markdown",
      "source": [
        "2. Slice a Sublist:\n",
        "Write a Python function that returns a sublist from a given list, starting from a specified index and\n",
        "ending at another specified index."
      ],
      "metadata": {
        "id": "51vKhqnwIIjO"
      }
    },
    {
      "cell_type": "code",
      "source": [
        "def get_sublist(lst, start, end):\n",
        "    return lst[start:end+1]\n",
        "lst = [1, 2, 3, 4, 5, 6]\n",
        "result = get_sublist(lst, 1, 4)\n",
        "print(result)  # Output: [3, 4, 5]\n"
      ],
      "metadata": {
        "colab": {
          "base_uri": "https://localhost:8080/"
        },
        "id": "ozPj8XmkIMAf",
        "outputId": "8ca546e7-4a06-42d4-9a9b-da52f9857493"
      },
      "execution_count": null,
      "outputs": [
        {
          "output_type": "stream",
          "name": "stdout",
          "text": [
            "[2, 3, 4, 5]\n"
          ]
        }
      ]
    },
    {
      "cell_type": "markdown",
      "source": [
        "3. Reverse a List Using Slicing:\n",
        "Write a Python function that reverses a list using slicing."
      ],
      "metadata": {
        "id": "QVsl3punIPqV"
      }
    },
    {
      "cell_type": "code",
      "source": [
        "def reverse_list(lst):\n",
        "    lst.reverse()\n",
        "    return lst\n",
        "\n",
        "lst = [1, 2, 3, 4, 5]\n",
        "result = reverse_list(lst)\n",
        "print(result)\n"
      ],
      "metadata": {
        "colab": {
          "base_uri": "https://localhost:8080/"
        },
        "id": "FVghQloqIUM0",
        "outputId": "16ffeb06-1b81-4f98-d518-20149c615976"
      },
      "execution_count": null,
      "outputs": [
        {
          "output_type": "stream",
          "name": "stdout",
          "text": [
            "[5, 4, 3, 2, 1]\n"
          ]
        }
      ]
    },
    {
      "cell_type": "markdown",
      "source": [
        "4. Remove the First and Last Elements:\n",
        "Write a Python function that removes the first and last elements of a list and returns the resulting\n",
        "sublist."
      ],
      "metadata": {
        "id": "KECoZt9ZIXfv"
      }
    },
    {
      "cell_type": "code",
      "source": [
        "def remove_first_last(lst):\n",
        "    result = []\n",
        "    for i in range(1, len(lst) - 1):\n",
        "        result.append(lst[i])\n",
        "    return result\n",
        "\n",
        "lst = [1, 2, 3, 4, 5]\n",
        "result = remove_first_last(lst)\n",
        "print(result)  # Output: [2, 3, 4]\n"
      ],
      "metadata": {
        "colab": {
          "base_uri": "https://localhost:8080/"
        },
        "id": "x5tMJkLmIa0V",
        "outputId": "74857208-91c7-4c3a-b3d9-fd0d085ede9c"
      },
      "execution_count": null,
      "outputs": [
        {
          "output_type": "stream",
          "name": "stdout",
          "text": [
            "[2, 3, 4]\n"
          ]
        }
      ]
    },
    {
      "cell_type": "markdown",
      "source": [
        "5. Get the First n Elements:\n",
        "Write a Python function that extracts the first n elements from a list."
      ],
      "metadata": {
        "id": "NRoLKF2dIcit"
      }
    },
    {
      "cell_type": "code",
      "source": [
        "def get_first_n(lst, n):\n",
        "    return [lst[i] for i in range(n)]\n",
        "lst = [1, 2, 3, 4, 5]\n",
        "result = get_first_n(lst, 3)\n",
        "print(result)\n"
      ],
      "metadata": {
        "colab": {
          "base_uri": "https://localhost:8080/"
        },
        "id": "1uRRkKEtIgy7",
        "outputId": "5f015bc3-2831-403a-e113-a7980020658f"
      },
      "execution_count": null,
      "outputs": [
        {
          "output_type": "stream",
          "name": "stdout",
          "text": [
            "[1, 2, 3]\n"
          ]
        }
      ]
    },
    {
      "cell_type": "markdown",
      "source": [
        "6. Extract Elements from the End:\n",
        "Write a Python function that extracts the last n elements of a list using slicing."
      ],
      "metadata": {
        "id": "ohV5BpIFIjg8"
      }
    },
    {
      "cell_type": "code",
      "source": [
        "def slice(lst, n):\n",
        "    return lst[len(lst) - n:]\n",
        "\n",
        "lst = [1, 2, 3, 9, 5]\n",
        "result = slice(lst, 2)\n",
        "print(result)"
      ],
      "metadata": {
        "id": "ZiyMmfv_IlU4",
        "outputId": "578af79c-fdcc-4038-a6e8-93a865804489",
        "colab": {
          "base_uri": "https://localhost:8080/"
        }
      },
      "execution_count": null,
      "outputs": [
        {
          "output_type": "stream",
          "name": "stdout",
          "text": [
            "[9, 5]\n"
          ]
        }
      ]
    },
    {
      "cell_type": "markdown",
      "source": [
        "7. Extract Elements in Reverse Order:\n",
        "Write a Python function that extracts a list of elements in reverse order starting from the second-to-last\n",
        "element and skipping one element in between."
      ],
      "metadata": {
        "id": "Oxvbp1uyI5JH"
      }
    },
    {
      "cell_type": "code",
      "source": [
        "def reverse_order(lst):\n",
        "    return lst[-2::-2]\n",
        "\n",
        "print(reverse_order([1, 2, 3, 4, 5, 6]))\n"
      ],
      "metadata": {
        "colab": {
          "base_uri": "https://localhost:8080/"
        },
        "id": "xCOBueJHI8BN",
        "outputId": "113bfb1f-1c3d-4dd3-8764-618b7e84778d"
      },
      "execution_count": 10,
      "outputs": [
        {
          "output_type": "stream",
          "name": "stdout",
          "text": [
            "[5, 3, 1]\n"
          ]
        }
      ]
    },
    {
      "cell_type": "markdown",
      "source": [
        "#4.3 Exercise on Nested List:\n",
        "1. Flatten a Nested List:\n",
        "Write a Python function that takes a nested list and flattens it into a single list, where all the elements\n",
        "are in a single dimension."
      ],
      "metadata": {
        "id": "mSgftUs7JAi0"
      }
    },
    {
      "cell_type": "code",
      "source": [
        "def flatten(lst):\n",
        "    return [item for sublist in lst for item in sublist]\n",
        "\n",
        "print(flatten([[1, 2], [3, 4], [5]]))\n",
        "\n"
      ],
      "metadata": {
        "colab": {
          "base_uri": "https://localhost:8080/"
        },
        "id": "mfwUSZZPJCEX",
        "outputId": "7c33fd85-e548-44b1-ed37-bb828a205997"
      },
      "execution_count": 11,
      "outputs": [
        {
          "output_type": "stream",
          "name": "stdout",
          "text": [
            "[1, 2, 3, 4, 5]\n"
          ]
        }
      ]
    },
    {
      "cell_type": "markdown",
      "source": [
        "2. Accessing Nested List Elements:\n",
        "\n",
        "Write a Python function that extracts a specific element from a nested list given its indices.\n",
        "\n",
        "• Requirements:\n",
        "– Define a function access nested element(lst, indices) that takes a nested list lst and\n",
        "a list of indices indices, and returns the element at that position."
      ],
      "metadata": {
        "id": "uENFHaDvJGTe"
      }
    },
    {
      "cell_type": "code",
      "source": [
        "def access_nested_element(lst, indices):\n",
        "    element = lst\n",
        "    for index in indices:\n",
        "        element = element[index]\n",
        "    return element\n",
        "\n",
        "lst = [[1, 2, 3], [4, 5, 6], [7, 8, 9]]\n",
        "indices = [1, 2]\n",
        "\n",
        "print(access_nested_element(lst, indices))\n"
      ],
      "metadata": {
        "colab": {
          "base_uri": "https://localhost:8080/"
        },
        "id": "Vb0_HEoXJH0j",
        "outputId": "a6ba0059-9bb9-448f-8d83-9997959959a5"
      },
      "execution_count": 12,
      "outputs": [
        {
          "output_type": "stream",
          "name": "stdout",
          "text": [
            "6\n"
          ]
        }
      ]
    },
    {
      "cell_type": "markdown",
      "source": [
        "3. Sum of All Elements in a Nested List:\n",
        "\n",
        "Write a Python function that calculates the sum of all the numbers in a nested list (regardless of depth).\n",
        "• Requirements:\n",
        "– Define a function sum nested(lst) that takes a nested list lst and returns the sum of all\n",
        "the elements."
      ],
      "metadata": {
        "id": "SCU__zUNJMrN"
      }
    },
    {
      "cell_type": "code",
      "source": [
        "def sum_nested(lst):\n",
        "    total = 0\n",
        "    for element in lst:\n",
        "        if isinstance(element, list):\n",
        "            total += sum_nested(element)\n",
        "        else:\n",
        "            total += element\n",
        "    return total\n",
        "\n",
        "lst = [[1, 2], [3, [4, 5]], 6]\n",
        "print(sum_nested(lst))"
      ],
      "metadata": {
        "colab": {
          "base_uri": "https://localhost:8080/"
        },
        "id": "sgofTOlFJODp",
        "outputId": "f4cfd61e-9389-45b5-8c7b-529ca89810be"
      },
      "execution_count": 13,
      "outputs": [
        {
          "output_type": "stream",
          "name": "stdout",
          "text": [
            "21\n"
          ]
        }
      ]
    },
    {
      "cell_type": "markdown",
      "source": [
        "4. Remove Specific Element from a Nested List:\n",
        "\n",
        "Write a Python function that removes all occurrences of a specific element from a nested list.\n",
        "\n",
        "• Requirements:\n",
        "– Define a function remove element(lst, elem) that removes elem from lst and returns the\n",
        "modified list."
      ],
      "metadata": {
        "id": "uA-ymXTbJR27"
      }
    },
    {
      "cell_type": "code",
      "source": [
        "def remove_element(lst, elem):\n",
        "    result = []\n",
        "    for item in lst:\n",
        "        if isinstance(item, list):\n",
        "            result.append(remove_element(item, elem))\n",
        "        elif item != elem:\n",
        "            result.append(item)\n",
        "    return result\n",
        "\n",
        "lst = [[1, 2, 3],  [4, 2], [5]]\n",
        "elem = 2\n",
        "print(remove_element(lst, elem))"
      ],
      "metadata": {
        "colab": {
          "base_uri": "https://localhost:8080/"
        },
        "id": "rv9T89lyJTuU",
        "outputId": "9caa16b6-e56a-426c-b831-d02e7be7e4ea"
      },
      "execution_count": 14,
      "outputs": [
        {
          "output_type": "stream",
          "name": "stdout",
          "text": [
            "[[1, 3], [4], [5]]\n"
          ]
        }
      ]
    },
    {
      "cell_type": "markdown",
      "source": [
        "5. Find the Maximum Element in a Nested List:\n",
        "Write a Python function that finds the maximum element in a nested list (regardless of depth).\n",
        "\n",
        "• Requirements:\n",
        "– Define a function find max(lst) that takes a nested list lst and returns the maximum\n",
        "element."
      ],
      "metadata": {
        "id": "UIBiVJuaJWx5"
      }
    },
    {
      "cell_type": "code",
      "source": [
        "def find_max(lst):\n",
        "    max_val = lst[0]\n",
        "    for item in lst:\n",
        "        if isinstance(item, list):\n",
        "            max_val = max(max_val, find_max(item))\n",
        "        else:\n",
        "            max_val = max(max_val, item)  #\n",
        "    return max_val\n",
        "\n",
        "\n",
        "nested_list = [1, [2, 3, [4, 5]], 6, [7, 8], 9]\n",
        "print(find_max(nested_list))\n"
      ],
      "metadata": {
        "colab": {
          "base_uri": "https://localhost:8080/"
        },
        "id": "u2NGnmJ_JaPq",
        "outputId": "eca7ae99-2bd2-497e-e573-3765fe5491c9"
      },
      "execution_count": 15,
      "outputs": [
        {
          "output_type": "stream",
          "name": "stdout",
          "text": [
            "9\n"
          ]
        }
      ]
    },
    {
      "cell_type": "markdown",
      "source": [
        "6. Count Occurrences of an Element in a Nested List:\n",
        "Write a Python function that counts how many times a specific element appears in a nested list.\n",
        "\n",
        "• Requirements:\n",
        "– Define a function count occurrences(lst, elem) that counts the occurrences of elem in\n",
        "the nested list lst."
      ],
      "metadata": {
        "id": "2PaitmkoJenl"
      }
    },
    {
      "cell_type": "code",
      "source": [
        "def get_last_n(lst, n):\n",
        "    return lst[-n:]\n",
        "\n",
        "my_list = [1, 2, 3, 4, 5, 6, 7]\n",
        "print(get_last_n(my_list, 3))\n"
      ],
      "metadata": {
        "colab": {
          "base_uri": "https://localhost:8080/"
        },
        "id": "_mamxK8CJf-R",
        "outputId": "bd899b9b-9854-4b8a-c0c8-fc16292d73e2"
      },
      "execution_count": 16,
      "outputs": [
        {
          "output_type": "stream",
          "name": "stdout",
          "text": [
            "[5, 6, 7]\n"
          ]
        }
      ]
    },
    {
      "cell_type": "markdown",
      "source": [
        "7. Flatten a List of Lists of Lists:\n",
        "Write a Python function that flattens a list of lists of lists into a single list, regardless of the depth.\n",
        "\n",
        "• Requirements:\n",
        "– Define a function deep flatten(lst) that takes a deeply nested list lst and returns a single\n",
        "flattened list."
      ],
      "metadata": {
        "id": "1Rfp-VPmJjwq"
      }
    },
    {
      "cell_type": "code",
      "source": [
        "def deep_flatten(lst):\n",
        "    flat_list = []\n",
        "    for item in lst:\n",
        "        if isinstance(item, list):\n",
        "            flat_list.extend(deep_flatten(item))\n",
        "        else:\n",
        "            flat_list.append(item)\n",
        "    return flat_list\n",
        "\n",
        "nested_list = [1, [2, [3, [4, 5]]], 6, [7, 8], 9]\n",
        "print(deep_flatten(nested_list))"
      ],
      "metadata": {
        "colab": {
          "base_uri": "https://localhost:8080/"
        },
        "id": "-E_cZmXpJk26",
        "outputId": "a0590ca1-acbd-471c-9e38-125c64744819"
      },
      "execution_count": 17,
      "outputs": [
        {
          "output_type": "stream",
          "name": "stdout",
          "text": [
            "[1, 2, 3, 4, 5, 6, 7, 8, 9]\n"
          ]
        }
      ]
    },
    {
      "cell_type": "markdown",
      "source": [
        "8. Nested List Average:\n",
        "\n",
        "Write a Python function that calculates the average of all elements in a nested list.\n",
        "\n",
        "• Requirements:\n",
        "– Define a function average nested(lst) that takes a nested list lst and returns the average\n",
        "of all the elements."
      ],
      "metadata": {
        "id": "0MinZEtPJnkF"
      }
    },
    {
      "cell_type": "code",
      "source": [
        "def average_nested(lst):\n",
        "    flattened_list = [item for sublist in lst for item in sublist]\n",
        "    return sum(flattened_list) / len(flattened_list) if flattened_list else 0\n",
        "\n",
        "nested_list = [[1, 2], [3, 4], [5, 6]]\n",
        "result = average_nested(nested_list)\n",
        "print(result)\n"
      ],
      "metadata": {
        "colab": {
          "base_uri": "https://localhost:8080/"
        },
        "id": "RmOq7sX9JsNx",
        "outputId": "6c67328a-3610-4103-be8e-31618f8fb79d"
      },
      "execution_count": 18,
      "outputs": [
        {
          "output_type": "stream",
          "name": "stdout",
          "text": [
            "3.5\n"
          ]
        }
      ]
    },
    {
      "cell_type": "markdown",
      "source": [
        "5 About a Numpy."
      ],
      "metadata": {
        "id": "Niu5Baw8JvTX"
      }
    },
    {
      "cell_type": "markdown",
      "source": [
        "#Problem - 1: Array Creation:\n",
        "\n",
        "1. Initialize an empty array with size 2X2."
      ],
      "metadata": {
        "id": "E6Qtl6-5Jzhv"
      }
    },
    {
      "cell_type": "code",
      "source": [
        "import numpy as np"
      ],
      "metadata": {
        "id": "b0W-7wNpJ3yf"
      },
      "execution_count": 19,
      "outputs": []
    },
    {
      "cell_type": "code",
      "source": [
        "array = np.zeros((2, 2))\n",
        "print(array)\n"
      ],
      "metadata": {
        "colab": {
          "base_uri": "https://localhost:8080/"
        },
        "id": "Ewd-2ZG6J5CU",
        "outputId": "f5c45d0b-35b3-4414-bfd0-3554a42f3940"
      },
      "execution_count": 20,
      "outputs": [
        {
          "output_type": "stream",
          "name": "stdout",
          "text": [
            "[[0. 0.]\n",
            " [0. 0.]]\n"
          ]
        }
      ]
    },
    {
      "cell_type": "markdown",
      "source": [
        "2. Initialize an all one array with size 4X2."
      ],
      "metadata": {
        "id": "QCIJmdpvJ7iS"
      }
    },
    {
      "cell_type": "code",
      "source": [
        "array = np.ones((4, 2))\n",
        "print(array)"
      ],
      "metadata": {
        "colab": {
          "base_uri": "https://localhost:8080/"
        },
        "id": "W5Ls1-O3KBr8",
        "outputId": "f1b753ea-a8a4-4e2d-ad7b-288a80758908"
      },
      "execution_count": 21,
      "outputs": [
        {
          "output_type": "stream",
          "name": "stdout",
          "text": [
            "[[1. 1.]\n",
            " [1. 1.]\n",
            " [1. 1.]\n",
            " [1. 1.]]\n"
          ]
        }
      ]
    },
    {
      "cell_type": "markdown",
      "source": [
        "3. Return a new array of given shape and type, filled with fill value.{Hint: np.full}"
      ],
      "metadata": {
        "id": "rguB5-QZKER-"
      }
    },
    {
      "cell_type": "code",
      "source": [
        "shape = (2, 3)\n",
        "fillvalue = 7\n",
        "new_array = np.full(shape, fillvalue)\n",
        "print(new_array)"
      ],
      "metadata": {
        "colab": {
          "base_uri": "https://localhost:8080/"
        },
        "id": "hUl4MAlwKHK9",
        "outputId": "9fc8f985-cd02-4e76-cca6-3372e8c9e4de"
      },
      "execution_count": 22,
      "outputs": [
        {
          "output_type": "stream",
          "name": "stdout",
          "text": [
            "[[7 7 7]\n",
            " [7 7 7]]\n"
          ]
        }
      ]
    },
    {
      "cell_type": "markdown",
      "source": [
        "4. Return a new array of zeros with same shape and type as a given array.{Hint: np.zeros like}"
      ],
      "metadata": {
        "id": "USwMtuNIKJxL"
      }
    },
    {
      "cell_type": "code",
      "source": [
        "array = np.array([[1, 2], [3, 4]])\n",
        "new_array_zeros = np.zeros_like(array)\n",
        "print(new_array_zeros)"
      ],
      "metadata": {
        "colab": {
          "base_uri": "https://localhost:8080/"
        },
        "id": "Dxm8HXdeKMnc",
        "outputId": "9c913037-eabf-4515-8b12-2fd0b83d2377"
      },
      "execution_count": 23,
      "outputs": [
        {
          "output_type": "stream",
          "name": "stdout",
          "text": [
            "[[0 0]\n",
            " [0 0]]\n"
          ]
        }
      ]
    },
    {
      "cell_type": "markdown",
      "source": [
        "5. Return a new array of ones with same shape and type as a given array.{Hint: np.ones like}"
      ],
      "metadata": {
        "id": "dBq2ZC2xKQL4"
      }
    },
    {
      "cell_type": "code",
      "source": [
        "array = np.array([[1, 2], [3, 4]])\n",
        "new_array_ones = np.ones_like(array)\n",
        "print(new_array_ones)"
      ],
      "metadata": {
        "colab": {
          "base_uri": "https://localhost:8080/"
        },
        "id": "zybAsl-OKSE4",
        "outputId": "dbfc68a4-6721-404f-ca66-96bfd808f84d"
      },
      "execution_count": 24,
      "outputs": [
        {
          "output_type": "stream",
          "name": "stdout",
          "text": [
            "[[1 1]\n",
            " [1 1]]\n"
          ]
        }
      ]
    },
    {
      "cell_type": "markdown",
      "source": [
        "6. For an existing list new_list = [1,2,3,4] convert to an numpy array.{Hint: np.array()}"
      ],
      "metadata": {
        "id": "gjI39TZWKUGn"
      }
    },
    {
      "cell_type": "code",
      "source": [
        "new_list = [1, 2, 3, 4]\n",
        "array = np.array(new_list)\n",
        "print(array)"
      ],
      "metadata": {
        "colab": {
          "base_uri": "https://localhost:8080/"
        },
        "id": "yWWHd9IjKVcU",
        "outputId": "3d9cb793-b449-4ff0-8295-9a0c523719b3"
      },
      "execution_count": 25,
      "outputs": [
        {
          "output_type": "stream",
          "name": "stdout",
          "text": [
            "[1 2 3 4]\n"
          ]
        }
      ]
    },
    {
      "cell_type": "markdown",
      "source": [
        "#Problem - 2: Array Manipulation: Numerical Ranges and Array indexing:\n",
        "\n",
        "1. Create an array with values ranging from 10 to 49. {Hint:np.arrange()}."
      ],
      "metadata": {
        "id": "ryUor1FNKYQx"
      }
    },
    {
      "cell_type": "code",
      "source": [
        "import numpy as np"
      ],
      "metadata": {
        "id": "EKGoxV2IKbf0"
      },
      "execution_count": 26,
      "outputs": []
    },
    {
      "cell_type": "code",
      "source": [
        "array = np.arange(10, 50)\n",
        "print(array)"
      ],
      "metadata": {
        "colab": {
          "base_uri": "https://localhost:8080/"
        },
        "id": "yV0Ap2IAKdqt",
        "outputId": "f5a3ea39-68e4-4558-8fd1-189d208104fb"
      },
      "execution_count": 27,
      "outputs": [
        {
          "output_type": "stream",
          "name": "stdout",
          "text": [
            "[10 11 12 13 14 15 16 17 18 19 20 21 22 23 24 25 26 27 28 29 30 31 32 33\n",
            " 34 35 36 37 38 39 40 41 42 43 44 45 46 47 48 49]\n"
          ]
        }
      ]
    },
    {
      "cell_type": "markdown",
      "source": [
        "2. Create a 3X3 matrix with values ranging from 0 to 8.\n",
        "{Hint:look for np.reshape()}"
      ],
      "metadata": {
        "id": "BYqywHukKgTh"
      }
    },
    {
      "cell_type": "code",
      "source": [
        "range = np.arange(9)\n",
        "matrix = range.reshape(3, 3)\n",
        "print(matrix)"
      ],
      "metadata": {
        "colab": {
          "base_uri": "https://localhost:8080/"
        },
        "id": "f3CKgHMhKhSU",
        "outputId": "4bbcb2a7-b8b0-40ac-c236-892ab8bcda6e"
      },
      "execution_count": 28,
      "outputs": [
        {
          "output_type": "stream",
          "name": "stdout",
          "text": [
            "[[0 1 2]\n",
            " [3 4 5]\n",
            " [6 7 8]]\n"
          ]
        }
      ]
    },
    {
      "cell_type": "markdown",
      "source": [
        "3. Create a 3X3 identity matrix.{Hint:np.eye()}"
      ],
      "metadata": {
        "id": "o6iQeVV2KkK9"
      }
    },
    {
      "cell_type": "code",
      "source": [
        "matrix = np.eye(3)\n",
        "print(matrix)"
      ],
      "metadata": {
        "colab": {
          "base_uri": "https://localhost:8080/"
        },
        "id": "A4mPD3g0KlQ7",
        "outputId": "ac72ff3d-bcf9-4c2c-c16f-f3c6059c3235"
      },
      "execution_count": 29,
      "outputs": [
        {
          "output_type": "stream",
          "name": "stdout",
          "text": [
            "[[1. 0. 0.]\n",
            " [0. 1. 0.]\n",
            " [0. 0. 1.]]\n"
          ]
        }
      ]
    },
    {
      "cell_type": "markdown",
      "source": [
        "4. Create a random array of size 30 and find the mean of the array.\n",
        "{Hint:check for np.random.random() and array.mean() function}"
      ],
      "metadata": {
        "id": "Sa-YCW-ZKoJX"
      }
    },
    {
      "cell_type": "code",
      "source": [
        "random_array = np.random.random(30)\n",
        "mean_value = random_array.mean()\n",
        "print(\"Random array:\", random_array)\n",
        "print(\"Mean of the array:\", mean_value)"
      ],
      "metadata": {
        "colab": {
          "base_uri": "https://localhost:8080/"
        },
        "id": "anFOM6kMKpX8",
        "outputId": "696da6a9-5f0f-4238-9723-cb09cbe1321e"
      },
      "execution_count": 30,
      "outputs": [
        {
          "output_type": "stream",
          "name": "stdout",
          "text": [
            "Random array: [0.42071853 0.49446916 0.94770206 0.15806853 0.36077743 0.61597968\n",
            " 0.89757611 0.13662085 0.73147389 0.76337507 0.99682021 0.44696996\n",
            " 0.37807634 0.39324572 0.78946544 0.29069313 0.71963759 0.27050427\n",
            " 0.4821608  0.07731919 0.63555958 0.45368667 0.72167165 0.58165112\n",
            " 0.9408739  0.78564092 0.66035126 0.43990948 0.1585393  0.52536806]\n",
            "Mean of the array: 0.5424968615602256\n"
          ]
        }
      ]
    },
    {
      "cell_type": "markdown",
      "source": [
        "5. Create a 10X10 array with random values and find the minimum and maximum values."
      ],
      "metadata": {
        "id": "YiLCU310KrSb"
      }
    },
    {
      "cell_type": "code",
      "source": [
        "random_array = np.random.random((10, 10))\n",
        "min_value = random_array.min()\n",
        "max_value = random_array.max()\n",
        "print(\"Random 10x10 array:\\n\", random_array)\n",
        "print(\"Minimum value:\", min_value)\n",
        "print(\"Maximum value:\", max_value)"
      ],
      "metadata": {
        "colab": {
          "base_uri": "https://localhost:8080/"
        },
        "id": "HEK8X_aPKwVA",
        "outputId": "34b3d3d4-de7d-4058-d636-d9958af6d3a5"
      },
      "execution_count": 31,
      "outputs": [
        {
          "output_type": "stream",
          "name": "stdout",
          "text": [
            "Random 10x10 array:\n",
            " [[0.54768138 0.12709147 0.64929729 0.7635572  0.0343865  0.15308256\n",
            "  0.36756882 0.09326869 0.50864161 0.9074575 ]\n",
            " [0.85847235 0.44406559 0.20888105 0.62450826 0.36077384 0.38447164\n",
            "  0.71343884 0.76378225 0.46641552 0.8441964 ]\n",
            " [0.52510487 0.31498078 0.89030309 0.31401955 0.12168957 0.68388286\n",
            "  0.31355844 0.45215039 0.31067606 0.88474768]\n",
            " [0.81198171 0.81097263 0.44056676 0.62445342 0.54713496 0.94790909\n",
            "  0.11125646 0.61070354 0.28425694 0.37470552]\n",
            " [0.76765229 0.90052783 0.92582726 0.11718841 0.57381123 0.92662614\n",
            "  0.58973585 0.24023623 0.47374342 0.26416686]\n",
            " [0.86358882 0.01143468 0.18055612 0.74066644 0.43960106 0.21221219\n",
            "  0.780801   0.25946377 0.70882385 0.25767365]\n",
            " [0.30797844 0.95580055 0.1076051  0.86003792 0.31590222 0.87588811\n",
            "  0.1584573  0.1578418  0.37985674 0.31906553]\n",
            " [0.26823502 0.88890228 0.18975191 0.2681632  0.02201246 0.33994353\n",
            "  0.32934429 0.66222319 0.80955353 0.769904  ]\n",
            " [0.7068734  0.40722651 0.39357076 0.68643067 0.38931055 0.12197103\n",
            "  0.77735949 0.43462455 0.4930357  0.03950768]\n",
            " [0.24445478 0.16099817 0.75317979 0.09405297 0.52958722 0.69683373\n",
            "  0.21665717 0.67583381 0.65674725 0.05052004]]\n",
            "Minimum value: 0.011434678412135302\n",
            "Maximum value: 0.9558005478671374\n"
          ]
        }
      ]
    },
    {
      "cell_type": "markdown",
      "source": [
        "6. Create a zero array of size 10 and replace 5th element with 1.\n"
      ],
      "metadata": {
        "id": "lblCPvUjKz6A"
      }
    },
    {
      "cell_type": "code",
      "source": [
        "z_array = np.zeros(10)\n",
        "z_array[4] = 1\n",
        "print(z_array)"
      ],
      "metadata": {
        "colab": {
          "base_uri": "https://localhost:8080/"
        },
        "id": "Z7SAFTb6K1UM",
        "outputId": "46a3d4cf-0707-4471-8186-58aca44bee55"
      },
      "execution_count": 32,
      "outputs": [
        {
          "output_type": "stream",
          "name": "stdout",
          "text": [
            "[0. 0. 0. 0. 1. 0. 0. 0. 0. 0.]\n"
          ]
        }
      ]
    },
    {
      "cell_type": "markdown",
      "source": [
        "7. Reverse an array arr = [1,2,0,0,4,0].\n"
      ],
      "metadata": {
        "id": "cbgnVnPMK3Pp"
      }
    },
    {
      "cell_type": "code",
      "source": [
        "arr = [1, 2, 0, 0, 4, 0]\n",
        "reversed_arr = arr[::-1]\n",
        "print(reversed_arr)\n"
      ],
      "metadata": {
        "colab": {
          "base_uri": "https://localhost:8080/"
        },
        "id": "Un5XlXypK5-U",
        "outputId": "83ecab52-02c5-47fe-e838-4279d0393af1"
      },
      "execution_count": 33,
      "outputs": [
        {
          "output_type": "stream",
          "name": "stdout",
          "text": [
            "[0, 4, 0, 0, 2, 1]\n"
          ]
        }
      ]
    },
    {
      "cell_type": "markdown",
      "source": [
        "8. Create a 2d array with 1 on border and 0 inside.\n"
      ],
      "metadata": {
        "id": "7OJaaw5cK8CR"
      }
    },
    {
      "cell_type": "code",
      "source": [
        "rows, cols = 5, 5\n",
        "array = np.ones((rows, cols))\n",
        "array[1:-1, 1:-1] = 0\n",
        "print(array)"
      ],
      "metadata": {
        "colab": {
          "base_uri": "https://localhost:8080/"
        },
        "id": "8zIG1FNeK9za",
        "outputId": "ac7cbb35-8755-4a89-ebf6-608fd3c79524"
      },
      "execution_count": 34,
      "outputs": [
        {
          "output_type": "stream",
          "name": "stdout",
          "text": [
            "[[1. 1. 1. 1. 1.]\n",
            " [1. 0. 0. 0. 1.]\n",
            " [1. 0. 0. 0. 1.]\n",
            " [1. 0. 0. 0. 1.]\n",
            " [1. 1. 1. 1. 1.]]\n"
          ]
        }
      ]
    },
    {
      "cell_type": "markdown",
      "source": [
        "\n",
        "9. Create a 8X8 matrix and fill it with a checkerboard pattern."
      ],
      "metadata": {
        "id": "K5ni805nLAMG"
      }
    },
    {
      "cell_type": "code",
      "source": [
        "checkerboard = np.zeros((8, 8))\n",
        "checkerboard[1::2, ::2] = 1\n",
        "checkerboard[::2, 1::2] = 1\n",
        "print(checkerboard)"
      ],
      "metadata": {
        "colab": {
          "base_uri": "https://localhost:8080/"
        },
        "id": "OlAypvG_LBlk",
        "outputId": "e44828bd-ec86-4df8-a367-d04ab045daf5"
      },
      "execution_count": 35,
      "outputs": [
        {
          "output_type": "stream",
          "name": "stdout",
          "text": [
            "[[0. 1. 0. 1. 0. 1. 0. 1.]\n",
            " [1. 0. 1. 0. 1. 0. 1. 0.]\n",
            " [0. 1. 0. 1. 0. 1. 0. 1.]\n",
            " [1. 0. 1. 0. 1. 0. 1. 0.]\n",
            " [0. 1. 0. 1. 0. 1. 0. 1.]\n",
            " [1. 0. 1. 0. 1. 0. 1. 0.]\n",
            " [0. 1. 0. 1. 0. 1. 0. 1.]\n",
            " [1. 0. 1. 0. 1. 0. 1. 0.]]\n"
          ]
        }
      ]
    },
    {
      "cell_type": "markdown",
      "source": [
        "#Problem - 3: Array Operations:\n",
        "\n",
        "For the following arrays:\n",
        "\n",
        "x = np.array([[1,2],[3,5]]) and y = np.array([[5,6],[7,8]]);\n",
        "\n",
        "v = np.array([9,10]) and w = np.array([11,12]);\n",
        "\n",
        "Complete all the task using numpy:"
      ],
      "metadata": {
        "id": "vu77dPlyLG8B"
      }
    },
    {
      "cell_type": "markdown",
      "source": [
        "1. Add the two array."
      ],
      "metadata": {
        "id": "9cKXGMk9LLgP"
      }
    },
    {
      "cell_type": "code",
      "source": [
        "import numpy as np\n",
        "x = np.array([[1, 2], [3, 5]])\n",
        "y = np.array([[5, 6], [7, 8]])\n",
        "v = np.array([9, 10])\n",
        "w = np.array([11, 12])\n"
      ],
      "metadata": {
        "id": "um0grKrFLKid"
      },
      "execution_count": 36,
      "outputs": []
    },
    {
      "cell_type": "code",
      "source": [
        "add_array = x + y\n",
        "print(\"Addition of x and y:\\n\", add_array)\n"
      ],
      "metadata": {
        "colab": {
          "base_uri": "https://localhost:8080/"
        },
        "id": "FwOvKidqLP2_",
        "outputId": "5b49c340-b2df-47a0-b0a4-f7e97e07f29b"
      },
      "execution_count": 37,
      "outputs": [
        {
          "output_type": "stream",
          "name": "stdout",
          "text": [
            "Addition of x and y:\n",
            " [[ 6  8]\n",
            " [10 13]]\n"
          ]
        }
      ]
    },
    {
      "cell_type": "markdown",
      "source": [
        "2. Subtract the two array."
      ],
      "metadata": {
        "id": "ym7opG93LR6x"
      }
    },
    {
      "cell_type": "code",
      "source": [
        "subtract_array = x - y\n",
        "print(\"Subtraction of x and y:\\n\", subtract_array)\n"
      ],
      "metadata": {
        "colab": {
          "base_uri": "https://localhost:8080/"
        },
        "id": "GTcgTqKILUGM",
        "outputId": "9bb57404-569b-4b83-9170-ae0b062d83db"
      },
      "execution_count": 38,
      "outputs": [
        {
          "output_type": "stream",
          "name": "stdout",
          "text": [
            "Subtraction of x and y:\n",
            " [[-4 -4]\n",
            " [-4 -3]]\n"
          ]
        }
      ]
    },
    {
      "cell_type": "markdown",
      "source": [
        "3. Multiply the array with any integers of your choice."
      ],
      "metadata": {
        "id": "s1dUY5PsLYHh"
      }
    },
    {
      "cell_type": "code",
      "source": [
        "x_multiply = x * 4\n",
        "y_multiply = y * 5\n",
        "print(\"x multiplied by 2:\\n\", x_multiply, \"\\n\")\n",
        "print(\"y multiplied by 3:\\n\", y_multiply)"
      ],
      "metadata": {
        "colab": {
          "base_uri": "https://localhost:8080/"
        },
        "id": "VCOXtyVMLZVL",
        "outputId": "7e62370c-52ce-47fe-93cf-26194a49c5a2"
      },
      "execution_count": 39,
      "outputs": [
        {
          "output_type": "stream",
          "name": "stdout",
          "text": [
            "x multiplied by 2:\n",
            " [[ 4  8]\n",
            " [12 20]] \n",
            "\n",
            "y multiplied by 3:\n",
            " [[25 30]\n",
            " [35 40]]\n"
          ]
        }
      ]
    },
    {
      "cell_type": "markdown",
      "source": [
        "4. Find the square of each element of the array."
      ],
      "metadata": {
        "id": "E3GGfWpnLc7r"
      }
    },
    {
      "cell_type": "code",
      "source": [
        "a = np.square(x)\n",
        "b = np.square(y)\n",
        "print(\"Square of each element of x:\\n\", a, \"\\n\")\n",
        "print(\"Square of each element of y:\\n\", b)"
      ],
      "metadata": {
        "colab": {
          "base_uri": "https://localhost:8080/"
        },
        "id": "tYyhGGpTLef4",
        "outputId": "e49c027b-d4ac-4a36-fe2c-760bced38ece"
      },
      "execution_count": 40,
      "outputs": [
        {
          "output_type": "stream",
          "name": "stdout",
          "text": [
            "Square of each element of x:\n",
            " [[ 1  4]\n",
            " [ 9 25]] \n",
            "\n",
            "Square of each element of y:\n",
            " [[25 36]\n",
            " [49 64]]\n"
          ]
        }
      ]
    },
    {
      "cell_type": "markdown",
      "source": [
        "5. Find the dot product between: v(and)w ; x(and)v ; x(and)y."
      ],
      "metadata": {
        "id": "QbExAdiDLhY6"
      }
    },
    {
      "cell_type": "code",
      "source": [
        "dot_v_w = np.dot(v, w)\n",
        "dot_x_v = np.dot(x, v)\n",
        "dot_x_y = np.dot(x, y)\n",
        "\n",
        "print(\"Dot product of v and w:\", dot_v_w, \"\\n\")\n",
        "print(\"Dot product of x and v:\\n\", dot_x_v, \"\\n\")\n",
        "print(\"Dot product of x and y:\\n\", dot_x_y)\n"
      ],
      "metadata": {
        "colab": {
          "base_uri": "https://localhost:8080/"
        },
        "id": "MlBU0h6nLimM",
        "outputId": "92254323-b55d-4eaf-cf35-034e9283e263"
      },
      "execution_count": 41,
      "outputs": [
        {
          "output_type": "stream",
          "name": "stdout",
          "text": [
            "Dot product of v and w: 219 \n",
            "\n",
            "Dot product of x and v:\n",
            " [29 77] \n",
            "\n",
            "Dot product of x and y:\n",
            " [[19 22]\n",
            " [50 58]]\n"
          ]
        }
      ]
    },
    {
      "cell_type": "markdown",
      "source": [
        "6. Concatenate x(and)y along row and Concatenate v(and)w along column.\n",
        "{Hint:try np.concatenate() or np.vstack() functions."
      ],
      "metadata": {
        "id": "3W8Dgro1LlvR"
      }
    },
    {
      "cell_type": "code",
      "source": [
        "concatenate_xy_rows = np.concatenate((x, y), axis=0)\n",
        "concatenate_vw_columns = np.concatenate((v.reshape(-1, 1), w.reshape(-1, 1)), axis=1)\n",
        "\n",
        "print(\"Concatenation of x and y along rows:\\n\", concatenate_xy_rows)\n",
        "print(\"Concatenation of v and w along columns:\\n\", concatenate_vw_columns)\n"
      ],
      "metadata": {
        "colab": {
          "base_uri": "https://localhost:8080/"
        },
        "id": "Rubsm7evLnRs",
        "outputId": "96ddd9f7-1d11-4eb4-f886-95cc47534c54"
      },
      "execution_count": 42,
      "outputs": [
        {
          "output_type": "stream",
          "name": "stdout",
          "text": [
            "Concatenation of x and y along rows:\n",
            " [[1 2]\n",
            " [3 5]\n",
            " [5 6]\n",
            " [7 8]]\n",
            "Concatenation of v and w along columns:\n",
            " [[ 9 11]\n",
            " [10 12]]\n"
          ]
        }
      ]
    },
    {
      "cell_type": "markdown",
      "source": [
        "7. Concatenate x(and)v; if you get an error, observe and explain why did you get the error?"
      ],
      "metadata": {
        "id": "LqSn1F5LLqW4"
      }
    },
    {
      "cell_type": "code",
      "source": [
        "try:\n",
        "    concatenated_x_v = np.concatenate((x, v), axis=0)\n",
        "    print(\"Concatenation of x and v:\\n\", concatenated_x_v)\n",
        "except Exception as e:\n",
        "    print(f\"Error: {e}\")\n"
      ],
      "metadata": {
        "colab": {
          "base_uri": "https://localhost:8080/"
        },
        "id": "VTO3iFzGLrkE",
        "outputId": "389e4f16-8409-4ae5-f813-94d9e78eb8ca"
      },
      "execution_count": 43,
      "outputs": [
        {
          "output_type": "stream",
          "name": "stdout",
          "text": [
            "Error: all the input arrays must have same number of dimensions, but the array at index 0 has 2 dimension(s) and the array at index 1 has 1 dimension(s)\n"
          ]
        }
      ]
    },
    {
      "cell_type": "markdown",
      "source": [
        "#Problem - 4: Matrix Operations:\n",
        "\n",
        "• For the following arrays:\n",
        "A = np.array([[3,4],[7,8]]) and B = np.array([[5,3],[2,1]]);\n",
        "Prove following with Numpy:"
      ],
      "metadata": {
        "id": "ImOKEn67LwYk"
      }
    },
    {
      "cell_type": "code",
      "source": [
        "import numpy as np\n",
        "\n",
        "A = np.array([[3, 4], [7, 8]])\n",
        "B = np.array([[5, 3], [2, 1]])\n"
      ],
      "metadata": {
        "id": "JtWbFte8LzSc"
      },
      "execution_count": 44,
      "outputs": []
    },
    {
      "cell_type": "markdown",
      "source": [
        "Prove following with Numpy:\n",
        "1. Prove A.A−1 = I."
      ],
      "metadata": {
        "id": "qm5_3ZyaL23v"
      }
    },
    {
      "cell_type": "code",
      "source": [
        "# Compute the inverse of A\n",
        "A_inv = np.linalg.inv(A)\n",
        "# Multiply A with its inverse\n",
        "A_A_inv = np.dot(A, A_inv)\n",
        "# Print result\n",
        "print(\"A * A^-1:\\n\", A_A_inv)\n"
      ],
      "metadata": {
        "colab": {
          "base_uri": "https://localhost:8080/"
        },
        "id": "kBqCBfs_L4Ik",
        "outputId": "199b83d0-02b9-4850-a958-5e3fe49660cc"
      },
      "execution_count": 45,
      "outputs": [
        {
          "output_type": "stream",
          "name": "stdout",
          "text": [
            "A * A^-1:\n",
            " [[1.00000000e+00 0.00000000e+00]\n",
            " [1.77635684e-15 1.00000000e+00]]\n"
          ]
        }
      ]
    },
    {
      "cell_type": "markdown",
      "source": [
        "2. Prove AB ̸= BA."
      ],
      "metadata": {
        "id": "GK7muXwSL62E"
      }
    },
    {
      "cell_type": "code",
      "source": [
        "# Compute AB and BA\n",
        "AB = np.dot(A, B)\n",
        "BA = np.dot(B, A)\n",
        "# Print results\n",
        "print(\"AB:\\n\", AB, \"\\n\")\n",
        "print(\"BA:\\n\", BA)\n",
        "# Check if AB is equal to BA\n",
        "print(\"Does AB equal to BA?\", np.array_equal(AB, BA))\n"
      ],
      "metadata": {
        "colab": {
          "base_uri": "https://localhost:8080/"
        },
        "id": "_MYHuDXKL8HL",
        "outputId": "436d7028-3cb4-409b-dcd5-cb85089bad6b"
      },
      "execution_count": 46,
      "outputs": [
        {
          "output_type": "stream",
          "name": "stdout",
          "text": [
            "AB:\n",
            " [[23 13]\n",
            " [51 29]] \n",
            "\n",
            "BA:\n",
            " [[36 44]\n",
            " [13 16]]\n",
            "Does AB equal to BA? False\n"
          ]
        }
      ]
    },
    {
      "cell_type": "markdown",
      "source": [
        "3. Prove (AB) T = B T A T"
      ],
      "metadata": {
        "id": "JyDHOEE6L_J5"
      }
    },
    {
      "cell_type": "code",
      "source": [
        "# Compute (AB)^T\n",
        "AB_T = np.transpose(AB)\n",
        "# Compute B^T * A^T\n",
        "BT_AT = np.dot(np.transpose(B), np.transpose(A))\n",
        "# Print results\n",
        "print(\"(AB)^T:\\n\", AB_T, \"\\n\")\n",
        "print(\"B^T * A^T:\\n\", BT_AT)\n",
        "# Check if they are equal\n",
        "print(\"Does (AB)^T equal to B^T * A^T?\", np.array_equal(AB_T, BT_AT))\n"
      ],
      "metadata": {
        "colab": {
          "base_uri": "https://localhost:8080/"
        },
        "id": "Wip1JIIxMAYN",
        "outputId": "5b019fb2-2fec-430c-9daa-3036276cbe81"
      },
      "execution_count": 47,
      "outputs": [
        {
          "output_type": "stream",
          "name": "stdout",
          "text": [
            "(AB)^T:\n",
            " [[23 51]\n",
            " [13 29]] \n",
            "\n",
            "B^T * A^T:\n",
            " [[23 51]\n",
            " [13 29]]\n",
            "Does (AB)^T equal to B^T * A^T? True\n"
          ]
        }
      ]
    },
    {
      "cell_type": "markdown",
      "source": [
        "Solve the following system of Linear equation using Inverse Methods.\n",
        "\n",
        "2x − 3y + z = −1\n",
        "\n",
        "x − y + 2z = −3\n",
        "\n",
        "3x + y − z = 9\n",
        "\n",
        "{Hint: First use Numpy array to represent the equation in Matrix form. Then Solve for: AX = B}"
      ],
      "metadata": {
        "id": "J9r_6grWMEmy"
      }
    },
    {
      "cell_type": "code",
      "source": [
        "# Define matrices\n",
        "A_matrix = np.array([[2, -3, 1], [1, -1, 2], [3, 1, -1]])\n",
        "B_matrix = np.array([-1, -3, 9])\n",
        "# Compute inverse of A\n",
        "A_inv_matrix = np.linalg.inv(A_matrix)\n",
        "# Solve for X\n",
        "X = np.dot(A_inv_matrix, B_matrix)\n",
        "# Print solution\n",
        "print(\"Solution for x, y, z:\", X)\n"
      ],
      "metadata": {
        "colab": {
          "base_uri": "https://localhost:8080/"
        },
        "id": "HE9OoEzeMF67",
        "outputId": "8e730230-40eb-4000-df23-e6d86a38a728"
      },
      "execution_count": 48,
      "outputs": [
        {
          "output_type": "stream",
          "name": "stdout",
          "text": [
            "Solution for x, y, z: [ 2.  1. -2.]\n"
          ]
        }
      ]
    }
  ]
}